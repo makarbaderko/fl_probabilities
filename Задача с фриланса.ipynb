{
 "cells": [
  {
   "cell_type": "markdown",
   "metadata": {},
   "source": [
    "Нужна функция на Python, которая будет выбирать элемент из массива по рандомному числу и вероятность выбора этого элемента уменьшается с увеличением индекса элемента массива.\n",
    "\n",
    "То есть мне нужно получать функцию редкости, чтобы первые элементы выпадали чаще, чем последние. Первый самый частый, последний самый редкий. И частота выпадения с увеличением индекса уменьшалась, и на сколько реже каждый последующий будет выпадать будет исходить(каким то образом высчитываться) из длины массива. Например, первый с вероятностью 50%, второй 30%, третий 20% (если в массиве 3 элемента)\n",
    "\n",
    "Например, есть массив(может быть любой длины 2-30)\n",
    "arr = ['white', 'red', 'blue', 'green', 'black', 'yellow', 'pink']\n",
    "'white' будет выпадать с вероятностью 30%, 'red' 25%, а последний 'pink' 5%"
   ]
  },
  {
   "cell_type": "code",
   "execution_count": 1,
   "metadata": {},
   "outputs": [],
   "source": [
    "arr = ['white', 'red', 'blue', 'green', 'black', 'yellow', 'pink']"
   ]
  },
  {
   "cell_type": "code",
   "execution_count": 2,
   "metadata": {},
   "outputs": [],
   "source": [
    "from random import choices\n",
    "population = [1, 2, 3, 4, 5, 6]\n",
    "weights = [0.1, 0.05, 0.05, 0.2, 0.4, 0.2]"
   ]
  },
  {
   "cell_type": "code",
   "execution_count": 3,
   "metadata": {},
   "outputs": [
    {
     "data": {
      "text/plain": [
       "[5]"
      ]
     },
     "execution_count": 3,
     "metadata": {},
     "output_type": "execute_result"
    }
   ],
   "source": [
    "choices(population, weights)"
   ]
  },
  {
   "cell_type": "markdown",
   "metadata": {},
   "source": [
    "1 => 100\n",
    "1, 2 => 50 50\n",
    "1, 2, 3 => 50 25 25\n",
    "1, 2, 3, 4 => 50 25 12,5 12,5\n",
    "\n",
    "50 =  \n",
    "\n",
    "Как считаем:\n",
    "1"
   ]
  },
  {
   "cell_type": "code",
   "execution_count": 4,
   "metadata": {},
   "outputs": [
    {
     "data": {
      "text/plain": [
       "[0.5, 0.25, 0.125, 0.125]"
      ]
     },
     "execution_count": 4,
     "metadata": {},
     "output_type": "execute_result"
    }
   ],
   "source": [
    "def generate_probabilities(array):\n",
    "    l = len(array)\n",
    "    probabilities = []\n",
    "    prob = 1\n",
    "    for i in range(1, l):\n",
    "        probabilities.append(prob/2)\n",
    "        prob /= 2\n",
    "    probabilities.append(probabilities[-1])\n",
    "    return probabilities\n",
    "    #print(probabilities)\n",
    "    #print(sum(probabilities))\n",
    "generate_probabilities([1, 2, 3, 4])"
   ]
  },
  {
   "cell_type": "code",
   "execution_count": 10,
   "metadata": {},
   "outputs": [
    {
     "data": {
      "text/plain": [
       "[4]"
      ]
     },
     "execution_count": 10,
     "metadata": {},
     "output_type": "execute_result"
    }
   ],
   "source": [
    "choices([1,2,3,4], generate_probabilities([1,2,3,4]))"
   ]
  },
  {
   "cell_type": "code",
   "execution_count": null,
   "metadata": {},
   "outputs": [],
   "source": []
  }
 ],
 "metadata": {
  "kernelspec": {
   "display_name": "Python 3",
   "language": "python",
   "name": "python3"
  },
  "language_info": {
   "codemirror_mode": {
    "name": "ipython",
    "version": 3
   },
   "file_extension": ".py",
   "mimetype": "text/x-python",
   "name": "python",
   "nbconvert_exporter": "python",
   "pygments_lexer": "ipython3",
   "version": "3.7.3"
  }
 },
 "nbformat": 4,
 "nbformat_minor": 4
}
